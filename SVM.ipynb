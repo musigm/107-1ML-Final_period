{
 "cells": [
  {
   "cell_type": "code",
   "execution_count": 7,
   "metadata": {},
   "outputs": [
    {
     "name": "stdout",
     "output_type": "stream",
     "text": [
      "0.55625\n"
     ]
    }
   ],
   "source": [
    "import csv\n",
    "import os\n",
    "import pydotplus\n",
    "from sklearn import cross_validation, svm, preprocessing, metrics\n",
    "from sklearn.cross_validation import train_test_split\n",
    "from IPython.display import Image \n",
    "os.environ[\"PATH\"] += os.pathsep + \"C:/Program Files (x86)/Graphviz2.38/bin/\"\n",
    "import graphviz \n",
    "\n",
    "# 開啟 CSV 檔案\n",
    "with open('winequality-red01.csv', newline='') as csvfile:\n",
    "  # 讀取 CSV 檔案內容\n",
    "    wines = csv.DictReader(csvfile)\n",
    "    wines_x=[]\n",
    "    wines_y=[]\n",
    "    for wine in wines:\n",
    "        wines_x.append([wine['fixed acidity'], wine['volatile acidity'], wine['citric acid'],\n",
    "            wine['residual sugar'], wine['free sulfur dioxide'], wine['total sulfur dioxide'], \n",
    "            wine['chlorides'], wine['density'], wine['pH'], \n",
    "            wine['sulphates'], wine['alcohol']])\n",
    "        wines_y.append(wine['quality'])\n",
    "    \n",
    "# 切分訓練與測試資料\n",
    "train_X, test_X, train_Y, test_Y = train_test_split(wines_x, wines_y, test_size = 0.3)\n",
    "\n",
    "#建立分類器 - SVM\n",
    "svc = svm.SVC()\n",
    "svc_fit = svc.fit(train_X, train_Y)\n",
    "\n",
    "# 預測\n",
    "test_Y_predicted = svc.predict(test_X)\n",
    "\n",
    "# 績效\n",
    "accuracy = metrics.accuracy_score(test_Y, test_Y_predicted)\n",
    "print(accuracy)\n",
    "\n",
    "\n",
    "#畫圖 \n",
    "#graph = pydotplus.graph_from_dot_data(dot_data)  \n",
    "#Image(graph.create_png())  "
   ]
  },
  {
   "cell_type": "code",
   "execution_count": null,
   "metadata": {},
   "outputs": [],
   "source": []
  }
 ],
 "metadata": {
  "kernelspec": {
   "display_name": "Python 3",
   "language": "python",
   "name": "python3"
  },
  "language_info": {
   "codemirror_mode": {
    "name": "ipython",
    "version": 3
   },
   "file_extension": ".py",
   "mimetype": "text/x-python",
   "name": "python",
   "nbconvert_exporter": "python",
   "pygments_lexer": "ipython3",
   "version": "3.7.0"
  }
 },
 "nbformat": 4,
 "nbformat_minor": 2
}
