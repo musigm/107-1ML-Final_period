{
 "cells": [
  {
   "cell_type": "code",
   "execution_count": 2,
   "metadata": {},
   "outputs": [
    {
     "name": "stdout",
     "output_type": "stream",
     "text": [
      "0.6520833333333333\n"
     ]
    }
   ],
   "source": [
    "import csv\n",
    "from sklearn.cross_validation import train_test_split\n",
    "from sklearn import cross_validation, ensemble, preprocessing, metrics\n",
    "\n",
    "# 開啟 CSV 檔案\n",
    "with open('winequality-red.csv', newline='') as csvfile:\n",
    "  # 讀取 CSV 檔案內容\n",
    "    wines = csv.DictReader(csvfile)\n",
    "    wines_x=[]\n",
    "    wines_y=[]\n",
    "    for wine in wines:\n",
    "        wines_x.append([ wine['total sulfur dioxide'], wine['pH'], \n",
    "            wine['sulphates']])\n",
    "        wines_y.append(wine['quality'])\n",
    "    \n",
    "# 切分訓練與測試資料\n",
    "train_X, test_X, train_Y, test_Y = train_test_split(wines_x, wines_y, test_size = 0.3)\n",
    "\n",
    "#建立分類器 - 隨機森林\n",
    "forest = ensemble.RandomForestClassifier(n_estimators = 220)\n",
    "forest_fit = forest.fit(train_X, train_Y)\n",
    "\n",
    "# 預測\n",
    "test_Y_predicted = forest.predict(test_X)\n",
    "\n",
    "# 績效\n",
    "accuracy = metrics.accuracy_score(test_Y, test_Y_predicted)\n",
    "print(accuracy) "
   ]
  }
 ],
 "metadata": {
  "kernelspec": {
   "display_name": "Python 3",
   "language": "python",
   "name": "python3"
  },
  "language_info": {
   "codemirror_mode": {
    "name": "ipython",
    "version": 3
   },
   "file_extension": ".py",
   "mimetype": "text/x-python",
   "name": "python",
   "nbconvert_exporter": "python",
   "pygments_lexer": "ipython3",
   "version": "3.7.0"
  }
 },
 "nbformat": 4,
 "nbformat_minor": 2
}
