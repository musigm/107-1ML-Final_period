{
 "cells": [
  {
   "cell_type": "code",
   "execution_count": 8,
   "metadata": {},
   "outputs": [
    {
     "ename": "NameError",
     "evalue": "name 'train_test_split' is not defined",
     "output_type": "error",
     "traceback": [
      "\u001b[1;31m---------------------------------------------------------------------------\u001b[0m",
      "\u001b[1;31mNameError\u001b[0m                                 Traceback (most recent call last)",
      "\u001b[1;32m<ipython-input-8-89db51d3275a>\u001b[0m in \u001b[0;36m<module>\u001b[1;34m()\u001b[0m\n\u001b[0;32m     21\u001b[0m \u001b[1;33m\u001b[0m\u001b[0m\n\u001b[0;32m     22\u001b[0m \u001b[1;31m# 切分訓練與測試資料\u001b[0m\u001b[1;33m\u001b[0m\u001b[1;33m\u001b[0m\u001b[0m\n\u001b[1;32m---> 23\u001b[1;33m \u001b[0mtrain_X\u001b[0m\u001b[1;33m,\u001b[0m \u001b[0mtest_X\u001b[0m\u001b[1;33m,\u001b[0m \u001b[0mtrain_Y\u001b[0m\u001b[1;33m,\u001b[0m \u001b[0mtest_Y\u001b[0m \u001b[1;33m=\u001b[0m \u001b[0mtrain_test_split\u001b[0m\u001b[1;33m(\u001b[0m\u001b[0mwines_x\u001b[0m\u001b[1;33m,\u001b[0m \u001b[0mwines_y\u001b[0m\u001b[1;33m,\u001b[0m \u001b[0mtest_size\u001b[0m \u001b[1;33m=\u001b[0m \u001b[1;36m0.3\u001b[0m\u001b[1;33m)\u001b[0m\u001b[1;33m\u001b[0m\u001b[0m\n\u001b[0m\u001b[0;32m     24\u001b[0m \u001b[1;33m\u001b[0m\u001b[0m\n\u001b[0;32m     25\u001b[0m \u001b[1;31m#建立分類器 - SVM\u001b[0m\u001b[1;33m\u001b[0m\u001b[1;33m\u001b[0m\u001b[0m\n",
      "\u001b[1;31mNameError\u001b[0m: name 'train_test_split' is not defined"
     ]
    }
   ],
   "source": [
    "import csv\n",
    "import os\n",
    "import pydotplus\n",
    "from sklearn import cross_validation, svm, preprocessing, metrics\n",
    "from IPython.display import Image \n",
    "os.environ[\"PATH\"] += os.pathsep + \"C:/Program Files (x86)/Graphviz2.38/bin/\"\n",
    "import graphviz \n",
    "\n",
    "# 開啟 CSV 檔案\n",
    "with open('winequality-red01.csv', newline='') as csvfile:\n",
    "  # 讀取 CSV 檔案內容\n",
    "    wines = csv.DictReader(csvfile)\n",
    "    wines_x=[]\n",
    "    wines_y=[]\n",
    "    for wine in wines:\n",
    "        wines_x.append([wine['fixed acidity'], wine['volatile acidity'], wine['citric acid'],\n",
    "            wine['residual sugar'], wine['free sulfur dioxide'], wine['total sulfur dioxide'], \n",
    "            wine['chlorides'], wine['density'], wine['pH'], \n",
    "            wine['sulphates'], wine['alcohol']])\n",
    "        wines_y.append(wine['quality'])\n",
    "    \n",
    "# 切分訓練與測試資料\n",
    "train_X, test_X, train_Y, test_Y = train_test_split(wines_x, wines_y, test_size = 0.3)\n",
    "\n",
    "#建立分類器 - SVM\n",
    "svc = svm.SVC()\n",
    "svc_fit = svc.fit(train_X, train_Y)\n",
    "\n",
    "# 預測\n",
    "test_Y_predicted = svc.predict(test_X)\n",
    "\n",
    "# 績效\n",
    "accuracy = metrics.accuracy_score(test_Y, test_Y_predicted)\n",
    "print(accuracy)\n",
    "\n",
    "\n",
    "#畫圖 \n",
    "#graph = pydotplus.graph_from_dot_data(dot_data)  \n",
    "#Image(graph.create_png())  "
   ]
  },
  {
   "cell_type": "code",
   "execution_count": null,
   "metadata": {},
   "outputs": [],
   "source": []
  }
 ],
 "metadata": {
  "kernelspec": {
   "display_name": "Python 3",
   "language": "python",
   "name": "python3"
  },
  "language_info": {
   "codemirror_mode": {
    "name": "ipython",
    "version": 3
   },
   "file_extension": ".py",
   "mimetype": "text/x-python",
   "name": "python",
   "nbconvert_exporter": "python",
   "pygments_lexer": "ipython3",
   "version": "3.7.0"
  }
 },
 "nbformat": 4,
 "nbformat_minor": 2
}
